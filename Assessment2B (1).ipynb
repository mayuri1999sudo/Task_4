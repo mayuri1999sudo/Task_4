{
 "cells": [
  {
   "cell_type": "markdown",
   "metadata": {},
   "source": [
    "###### Assessment"
   ]
  },
  {
   "cell_type": "markdown",
   "metadata": {},
   "source": [
    "###### I am going to provide two .csv files , you are supposed to work on them and have to provide solutions to the following problems"
   ]
  },
  {
   "cell_type": "markdown",
   "metadata": {},
   "source": [
    "###### import necessary libraries"
   ]
  },
  {
   "cell_type": "code",
   "execution_count": 1,
   "metadata": {},
   "outputs": [],
   "source": [
    "import numpy as np\n",
    "import pandas as pd"
   ]
  },
  {
   "cell_type": "markdown",
   "metadata": {},
   "source": [
    "###### merge those two csv files (after getting as dataframes, get them as a single dataframe)"
   ]
  },
  {
   "cell_type": "code",
   "execution_count": 2,
   "metadata": {},
   "outputs": [],
   "source": [
    "df1=pd.read_csv(\"college_1.csv\")\n",
    "df2=pd.read_csv(\"college_2.csv\")"
   ]
  },
  {
   "cell_type": "code",
   "execution_count": 3,
   "metadata": {},
   "outputs": [
    {
     "data": {
      "text/html": [
       "<div>\n",
       "<style scoped>\n",
       "    .dataframe tbody tr th:only-of-type {\n",
       "        vertical-align: middle;\n",
       "    }\n",
       "\n",
       "    .dataframe tbody tr th {\n",
       "        vertical-align: top;\n",
       "    }\n",
       "\n",
       "    .dataframe thead th {\n",
       "        text-align: right;\n",
       "    }\n",
       "</style>\n",
       "<table border=\"1\" class=\"dataframe\">\n",
       "  <thead>\n",
       "    <tr style=\"text-align: right;\">\n",
       "      <th></th>\n",
       "      <th>Name</th>\n",
       "      <th>python</th>\n",
       "      <th>mysql</th>\n",
       "      <th>Previous Geekions</th>\n",
       "      <th>CodeKata Score</th>\n",
       "      <th>Department</th>\n",
       "      <th>Rising</th>\n",
       "    </tr>\n",
       "  </thead>\n",
       "  <tbody>\n",
       "    <tr>\n",
       "      <th>0</th>\n",
       "      <td>A.Dharani</td>\n",
       "      <td>82.0</td>\n",
       "      <td>20.0</td>\n",
       "      <td>24500</td>\n",
       "      <td>24500</td>\n",
       "      <td>Computer Science and Engineering</td>\n",
       "      <td>0</td>\n",
       "    </tr>\n",
       "    <tr>\n",
       "      <th>1</th>\n",
       "      <td>V.JEEVITHA</td>\n",
       "      <td>82.0</td>\n",
       "      <td>20.0</td>\n",
       "      <td>21740</td>\n",
       "      <td>21740</td>\n",
       "      <td>Computer Science and Engineering</td>\n",
       "      <td>0</td>\n",
       "    </tr>\n",
       "    <tr>\n",
       "      <th>2</th>\n",
       "      <td>HEMAVATHI.R</td>\n",
       "      <td>100.0</td>\n",
       "      <td>100.0</td>\n",
       "      <td>19680</td>\n",
       "      <td>19680</td>\n",
       "      <td>Computer Science and Engineering</td>\n",
       "      <td>0</td>\n",
       "    </tr>\n",
       "    <tr>\n",
       "      <th>3</th>\n",
       "      <td>Mugunthan S</td>\n",
       "      <td>100.0</td>\n",
       "      <td>47.0</td>\n",
       "      <td>10610</td>\n",
       "      <td>10610</td>\n",
       "      <td>Computer Science and Engineering</td>\n",
       "      <td>0</td>\n",
       "    </tr>\n",
       "    <tr>\n",
       "      <th>4</th>\n",
       "      <td>Sathammai.S</td>\n",
       "      <td>100.0</td>\n",
       "      <td>8.0</td>\n",
       "      <td>8980</td>\n",
       "      <td>8980</td>\n",
       "      <td>Computer Science and Engineering</td>\n",
       "      <td>0</td>\n",
       "    </tr>\n",
       "    <tr>\n",
       "      <th>...</th>\n",
       "      <td>...</td>\n",
       "      <td>...</td>\n",
       "      <td>...</td>\n",
       "      <td>...</td>\n",
       "      <td>...</td>\n",
       "      <td>...</td>\n",
       "      <td>...</td>\n",
       "    </tr>\n",
       "    <tr>\n",
       "      <th>79</th>\n",
       "      <td>KarthikeyanS</td>\n",
       "      <td>45.0</td>\n",
       "      <td>0.0</td>\n",
       "      <td>0</td>\n",
       "      <td>0</td>\n",
       "      <td>Electronics and Electrical Engineering</td>\n",
       "      <td>0</td>\n",
       "    </tr>\n",
       "    <tr>\n",
       "      <th>80</th>\n",
       "      <td>BARATH.P</td>\n",
       "      <td>29.0</td>\n",
       "      <td>0.0</td>\n",
       "      <td>0</td>\n",
       "      <td>0</td>\n",
       "      <td>Electronics and Electrical Engineering</td>\n",
       "      <td>0</td>\n",
       "    </tr>\n",
       "    <tr>\n",
       "      <th>81</th>\n",
       "      <td>N.Ajith kumar</td>\n",
       "      <td>82.0</td>\n",
       "      <td>0.0</td>\n",
       "      <td>0</td>\n",
       "      <td>0</td>\n",
       "      <td>Electronics and Electrical Engineering</td>\n",
       "      <td>0</td>\n",
       "    </tr>\n",
       "    <tr>\n",
       "      <th>82</th>\n",
       "      <td>mohamed nabi</td>\n",
       "      <td>0.0</td>\n",
       "      <td>0.0</td>\n",
       "      <td>0</td>\n",
       "      <td>0</td>\n",
       "      <td>Electronics and Electrical Engineering</td>\n",
       "      <td>0</td>\n",
       "    </tr>\n",
       "    <tr>\n",
       "      <th>83</th>\n",
       "      <td>yaser ahamed.A</td>\n",
       "      <td>0.0</td>\n",
       "      <td>27.0</td>\n",
       "      <td>0</td>\n",
       "      <td>0</td>\n",
       "      <td>Electronics and Electrical Engineering</td>\n",
       "      <td>0</td>\n",
       "    </tr>\n",
       "  </tbody>\n",
       "</table>\n",
       "<p>84 rows × 7 columns</p>\n",
       "</div>"
      ],
      "text/plain": [
       "              Name  python  mysql  Previous Geekions  CodeKata Score  \\\n",
       "0        A.Dharani    82.0   20.0              24500           24500   \n",
       "1      V.JEEVITHA     82.0   20.0              21740           21740   \n",
       "2      HEMAVATHI.R   100.0  100.0              19680           19680   \n",
       "3      Mugunthan S   100.0   47.0              10610           10610   \n",
       "4      Sathammai.S   100.0    8.0               8980            8980   \n",
       "..             ...     ...    ...                ...             ...   \n",
       "79    KarthikeyanS    45.0    0.0                  0               0   \n",
       "80        BARATH.P    29.0    0.0                  0               0   \n",
       "81   N.Ajith kumar    82.0    0.0                  0               0   \n",
       "82    mohamed nabi     0.0    0.0                  0               0   \n",
       "83  yaser ahamed.A     0.0   27.0                  0               0   \n",
       "\n",
       "                                Department  Rising  \n",
       "0         Computer Science and Engineering       0  \n",
       "1         Computer Science and Engineering       0  \n",
       "2         Computer Science and Engineering       0  \n",
       "3         Computer Science and Engineering       0  \n",
       "4         Computer Science and Engineering       0  \n",
       "..                                     ...     ...  \n",
       "79  Electronics and Electrical Engineering       0  \n",
       "80  Electronics and Electrical Engineering       0  \n",
       "81  Electronics and Electrical Engineering       0  \n",
       "82  Electronics and Electrical Engineering       0  \n",
       "83  Electronics and Electrical Engineering       0  \n",
       "\n",
       "[84 rows x 7 columns]"
      ]
     },
     "execution_count": 3,
     "metadata": {},
     "output_type": "execute_result"
    }
   ],
   "source": [
    "df1"
   ]
  },
  {
   "cell_type": "code",
   "execution_count": 4,
   "metadata": {},
   "outputs": [
    {
     "data": {
      "text/html": [
       "<div>\n",
       "<style scoped>\n",
       "    .dataframe tbody tr th:only-of-type {\n",
       "        vertical-align: middle;\n",
       "    }\n",
       "\n",
       "    .dataframe tbody tr th {\n",
       "        vertical-align: top;\n",
       "    }\n",
       "\n",
       "    .dataframe thead th {\n",
       "        text-align: right;\n",
       "    }\n",
       "</style>\n",
       "<table border=\"1\" class=\"dataframe\">\n",
       "  <thead>\n",
       "    <tr style=\"text-align: right;\">\n",
       "      <th></th>\n",
       "      <th>Name</th>\n",
       "      <th>python</th>\n",
       "      <th>python_en</th>\n",
       "      <th>mysql</th>\n",
       "      <th>computational_thinking</th>\n",
       "      <th>Previous Geekions</th>\n",
       "      <th>CodeKata Score</th>\n",
       "      <th>Department</th>\n",
       "      <th>Rising</th>\n",
       "    </tr>\n",
       "  </thead>\n",
       "  <tbody>\n",
       "    <tr>\n",
       "      <th>0</th>\n",
       "      <td>ASHOK KUMAR K</td>\n",
       "      <td>100</td>\n",
       "      <td>0</td>\n",
       "      <td>31</td>\n",
       "      <td>9</td>\n",
       "      <td>19400</td>\n",
       "      <td>19400</td>\n",
       "      <td>Electronics and Electrical Engineering</td>\n",
       "      <td>0</td>\n",
       "    </tr>\n",
       "    <tr>\n",
       "      <th>1</th>\n",
       "      <td>Chandru</td>\n",
       "      <td>0</td>\n",
       "      <td>20</td>\n",
       "      <td>0</td>\n",
       "      <td>0</td>\n",
       "      <td>14150</td>\n",
       "      <td>14490</td>\n",
       "      <td>Computer Science and Engineering</td>\n",
       "      <td>340</td>\n",
       "    </tr>\n",
       "    <tr>\n",
       "      <th>2</th>\n",
       "      <td>Ganesh Ramkumar R</td>\n",
       "      <td>-1</td>\n",
       "      <td>55</td>\n",
       "      <td>24</td>\n",
       "      <td>6</td>\n",
       "      <td>8790</td>\n",
       "      <td>10790</td>\n",
       "      <td>Computer Science and Engineering</td>\n",
       "      <td>2000</td>\n",
       "    </tr>\n",
       "    <tr>\n",
       "      <th>3</th>\n",
       "      <td>Bodipudi Harini</td>\n",
       "      <td>-1</td>\n",
       "      <td>0</td>\n",
       "      <td>35</td>\n",
       "      <td>-1</td>\n",
       "      <td>10040</td>\n",
       "      <td>10040</td>\n",
       "      <td>Electronics and Communication Engineering</td>\n",
       "      <td>0</td>\n",
       "    </tr>\n",
       "    <tr>\n",
       "      <th>4</th>\n",
       "      <td>VIINU V P</td>\n",
       "      <td>-1</td>\n",
       "      <td>100</td>\n",
       "      <td>24</td>\n",
       "      <td>-1</td>\n",
       "      <td>9150</td>\n",
       "      <td>9150</td>\n",
       "      <td>Electronics and Electrical Engineering</td>\n",
       "      <td>0</td>\n",
       "    </tr>\n",
       "    <tr>\n",
       "      <th>5</th>\n",
       "      <td>Poojitha Y</td>\n",
       "      <td>0</td>\n",
       "      <td>78</td>\n",
       "      <td>35</td>\n",
       "      <td>0</td>\n",
       "      <td>7210</td>\n",
       "      <td>8970</td>\n",
       "      <td>Computer Science and Engineering</td>\n",
       "      <td>1760</td>\n",
       "    </tr>\n",
       "    <tr>\n",
       "      <th>6</th>\n",
       "      <td>Gowtham Chandrasekaran</td>\n",
       "      <td>-1</td>\n",
       "      <td>0</td>\n",
       "      <td>0</td>\n",
       "      <td>3</td>\n",
       "      <td>7250</td>\n",
       "      <td>8950</td>\n",
       "      <td>Computer Science and Engineering</td>\n",
       "      <td>1700</td>\n",
       "    </tr>\n",
       "    <tr>\n",
       "      <th>7</th>\n",
       "      <td>Gowtham R</td>\n",
       "      <td>-1</td>\n",
       "      <td>60</td>\n",
       "      <td>4</td>\n",
       "      <td>6</td>\n",
       "      <td>8650</td>\n",
       "      <td>8650</td>\n",
       "      <td>Electronics and Communication Engineering</td>\n",
       "      <td>0</td>\n",
       "    </tr>\n",
       "    <tr>\n",
       "      <th>8</th>\n",
       "      <td>shifak N</td>\n",
       "      <td>58</td>\n",
       "      <td>0</td>\n",
       "      <td>0</td>\n",
       "      <td>0</td>\n",
       "      <td>5180</td>\n",
       "      <td>8320</td>\n",
       "      <td>Electronics and Electrical Engineering</td>\n",
       "      <td>3140</td>\n",
       "    </tr>\n",
       "    <tr>\n",
       "      <th>9</th>\n",
       "      <td>Balaji</td>\n",
       "      <td>-1</td>\n",
       "      <td>100</td>\n",
       "      <td>20</td>\n",
       "      <td>0</td>\n",
       "      <td>6170</td>\n",
       "      <td>8160</td>\n",
       "      <td>Electronics and Electrical Engineering</td>\n",
       "      <td>1990</td>\n",
       "    </tr>\n",
       "    <tr>\n",
       "      <th>10</th>\n",
       "      <td>Rushitha</td>\n",
       "      <td>-1</td>\n",
       "      <td>15</td>\n",
       "      <td>62</td>\n",
       "      <td>9</td>\n",
       "      <td>7470</td>\n",
       "      <td>8090</td>\n",
       "      <td>Computer Science and Engineering</td>\n",
       "      <td>620</td>\n",
       "    </tr>\n",
       "    <tr>\n",
       "      <th>11</th>\n",
       "      <td>Balaraman Muthupandi</td>\n",
       "      <td>-1</td>\n",
       "      <td>9</td>\n",
       "      <td>0</td>\n",
       "      <td>0</td>\n",
       "      <td>7670</td>\n",
       "      <td>8050</td>\n",
       "      <td>Computer Science and Engineering</td>\n",
       "      <td>380</td>\n",
       "    </tr>\n",
       "    <tr>\n",
       "      <th>12</th>\n",
       "      <td>JPradhap</td>\n",
       "      <td>100</td>\n",
       "      <td>0</td>\n",
       "      <td>0</td>\n",
       "      <td>0</td>\n",
       "      <td>7340</td>\n",
       "      <td>8030</td>\n",
       "      <td>Electronics and Electrical Engineering</td>\n",
       "      <td>690</td>\n",
       "    </tr>\n",
       "    <tr>\n",
       "      <th>13</th>\n",
       "      <td>SRIRAMKUMAR B</td>\n",
       "      <td>-1</td>\n",
       "      <td>0</td>\n",
       "      <td>0</td>\n",
       "      <td>0</td>\n",
       "      <td>6400</td>\n",
       "      <td>7940</td>\n",
       "      <td>Computer Science and Engineering</td>\n",
       "      <td>1540</td>\n",
       "    </tr>\n",
       "    <tr>\n",
       "      <th>14</th>\n",
       "      <td>Praneetha</td>\n",
       "      <td>-1</td>\n",
       "      <td>23</td>\n",
       "      <td>100</td>\n",
       "      <td>-1</td>\n",
       "      <td>7170</td>\n",
       "      <td>7730</td>\n",
       "      <td>Electronics and Communication Engineering</td>\n",
       "      <td>560</td>\n",
       "    </tr>\n",
       "    <tr>\n",
       "      <th>15</th>\n",
       "      <td>Rahul Raj K</td>\n",
       "      <td>-1</td>\n",
       "      <td>0</td>\n",
       "      <td>0</td>\n",
       "      <td>0</td>\n",
       "      <td>6280</td>\n",
       "      <td>7640</td>\n",
       "      <td>Computer Science and Engineering</td>\n",
       "      <td>1360</td>\n",
       "    </tr>\n",
       "    <tr>\n",
       "      <th>16</th>\n",
       "      <td>Guhan S</td>\n",
       "      <td>-1</td>\n",
       "      <td>72</td>\n",
       "      <td>35</td>\n",
       "      <td>39</td>\n",
       "      <td>7310</td>\n",
       "      <td>7630</td>\n",
       "      <td>Electronics and Communication Engineering</td>\n",
       "      <td>320</td>\n",
       "    </tr>\n",
       "    <tr>\n",
       "      <th>17</th>\n",
       "      <td>Suryarajan S</td>\n",
       "      <td>-1</td>\n",
       "      <td>63</td>\n",
       "      <td>31</td>\n",
       "      <td>0</td>\n",
       "      <td>6710</td>\n",
       "      <td>7550</td>\n",
       "      <td>Computer Science and Engineering</td>\n",
       "      <td>840</td>\n",
       "    </tr>\n",
       "    <tr>\n",
       "      <th>18</th>\n",
       "      <td>Narasimhan Y L</td>\n",
       "      <td>-1</td>\n",
       "      <td>-1</td>\n",
       "      <td>0</td>\n",
       "      <td>0</td>\n",
       "      <td>4800</td>\n",
       "      <td>6800</td>\n",
       "      <td>Computer Science and Engineering</td>\n",
       "      <td>2000</td>\n",
       "    </tr>\n",
       "    <tr>\n",
       "      <th>19</th>\n",
       "      <td>Leelakrishna</td>\n",
       "      <td>-1</td>\n",
       "      <td>6</td>\n",
       "      <td>4</td>\n",
       "      <td>0</td>\n",
       "      <td>5300</td>\n",
       "      <td>6640</td>\n",
       "      <td>Computer Science and Engineering</td>\n",
       "      <td>1340</td>\n",
       "    </tr>\n",
       "    <tr>\n",
       "      <th>20</th>\n",
       "      <td>PremsagarReddy</td>\n",
       "      <td>-1</td>\n",
       "      <td>20</td>\n",
       "      <td>0</td>\n",
       "      <td>0</td>\n",
       "      <td>5290</td>\n",
       "      <td>6290</td>\n",
       "      <td>Computer Science and Engineering</td>\n",
       "      <td>1000</td>\n",
       "    </tr>\n",
       "    <tr>\n",
       "      <th>21</th>\n",
       "      <td>pradeeban</td>\n",
       "      <td>16</td>\n",
       "      <td>20</td>\n",
       "      <td>24</td>\n",
       "      <td>0</td>\n",
       "      <td>6060</td>\n",
       "      <td>6090</td>\n",
       "      <td>Computer Science and Engineering</td>\n",
       "      <td>30</td>\n",
       "    </tr>\n",
       "    <tr>\n",
       "      <th>22</th>\n",
       "      <td>santhoshini</td>\n",
       "      <td>-1</td>\n",
       "      <td>43</td>\n",
       "      <td>0</td>\n",
       "      <td>0</td>\n",
       "      <td>3910</td>\n",
       "      <td>5740</td>\n",
       "      <td>Computer Science and Engineering</td>\n",
       "      <td>1830</td>\n",
       "    </tr>\n",
       "    <tr>\n",
       "      <th>23</th>\n",
       "      <td>MUKESH S M</td>\n",
       "      <td>-1</td>\n",
       "      <td>46</td>\n",
       "      <td>0</td>\n",
       "      <td>0</td>\n",
       "      <td>5200</td>\n",
       "      <td>5200</td>\n",
       "      <td>Computer Science and Engineering</td>\n",
       "      <td>0</td>\n",
       "    </tr>\n",
       "    <tr>\n",
       "      <th>24</th>\n",
       "      <td>P.GOVARDHANAN</td>\n",
       "      <td>-1</td>\n",
       "      <td>40</td>\n",
       "      <td>0</td>\n",
       "      <td>-1</td>\n",
       "      <td>5050</td>\n",
       "      <td>5050</td>\n",
       "      <td>Electronics and Communication Engineering</td>\n",
       "      <td>0</td>\n",
       "    </tr>\n",
       "    <tr>\n",
       "      <th>25</th>\n",
       "      <td>SHAIK DANISH</td>\n",
       "      <td>-1</td>\n",
       "      <td>43</td>\n",
       "      <td>0</td>\n",
       "      <td>0</td>\n",
       "      <td>4050</td>\n",
       "      <td>4820</td>\n",
       "      <td>Computer Science and Engineering</td>\n",
       "      <td>770</td>\n",
       "    </tr>\n",
       "    <tr>\n",
       "      <th>26</th>\n",
       "      <td>sridhar.s</td>\n",
       "      <td>-1</td>\n",
       "      <td>52</td>\n",
       "      <td>0</td>\n",
       "      <td>0</td>\n",
       "      <td>3860</td>\n",
       "      <td>4440</td>\n",
       "      <td>Computer Science and Engineering</td>\n",
       "      <td>580</td>\n",
       "    </tr>\n",
       "    <tr>\n",
       "      <th>27</th>\n",
       "      <td>Vimalesh Fernando</td>\n",
       "      <td>-1</td>\n",
       "      <td>0</td>\n",
       "      <td>0</td>\n",
       "      <td>0</td>\n",
       "      <td>4170</td>\n",
       "      <td>4170</td>\n",
       "      <td>Computer Science and Engineering</td>\n",
       "      <td>0</td>\n",
       "    </tr>\n",
       "    <tr>\n",
       "      <th>28</th>\n",
       "      <td>M.Karthikeyan</td>\n",
       "      <td>-1</td>\n",
       "      <td>0</td>\n",
       "      <td>4</td>\n",
       "      <td>6</td>\n",
       "      <td>4020</td>\n",
       "      <td>4020</td>\n",
       "      <td>Computer Science and Engineering</td>\n",
       "      <td>0</td>\n",
       "    </tr>\n",
       "    <tr>\n",
       "      <th>29</th>\n",
       "      <td>Abishak s</td>\n",
       "      <td>-1</td>\n",
       "      <td>55</td>\n",
       "      <td>35</td>\n",
       "      <td>6</td>\n",
       "      <td>3220</td>\n",
       "      <td>3220</td>\n",
       "      <td>Electronics and Communication Engineering</td>\n",
       "      <td>0</td>\n",
       "    </tr>\n",
       "    <tr>\n",
       "      <th>30</th>\n",
       "      <td>praveen raj j</td>\n",
       "      <td>24</td>\n",
       "      <td>-1</td>\n",
       "      <td>0</td>\n",
       "      <td>0</td>\n",
       "      <td>2380</td>\n",
       "      <td>2380</td>\n",
       "      <td>Computer Science and Engineering</td>\n",
       "      <td>0</td>\n",
       "    </tr>\n",
       "    <tr>\n",
       "      <th>31</th>\n",
       "      <td>AMARNATH D</td>\n",
       "      <td>-1</td>\n",
       "      <td>52</td>\n",
       "      <td>12</td>\n",
       "      <td>-1</td>\n",
       "      <td>1890</td>\n",
       "      <td>1890</td>\n",
       "      <td>Electronics and Communication Engineering</td>\n",
       "      <td>0</td>\n",
       "    </tr>\n",
       "    <tr>\n",
       "      <th>32</th>\n",
       "      <td>bala</td>\n",
       "      <td>32</td>\n",
       "      <td>49</td>\n",
       "      <td>0</td>\n",
       "      <td>-1</td>\n",
       "      <td>1720</td>\n",
       "      <td>1720</td>\n",
       "      <td>Electronics and Communication Engineering</td>\n",
       "      <td>0</td>\n",
       "    </tr>\n",
       "    <tr>\n",
       "      <th>33</th>\n",
       "      <td>XY Z</td>\n",
       "      <td>-1</td>\n",
       "      <td>20</td>\n",
       "      <td>-1</td>\n",
       "      <td>-1</td>\n",
       "      <td>0</td>\n",
       "      <td>0</td>\n",
       "      <td>Computer Science and Engineering</td>\n",
       "      <td>0</td>\n",
       "    </tr>\n",
       "    <tr>\n",
       "      <th>34</th>\n",
       "      <td>Hariharan</td>\n",
       "      <td>-1</td>\n",
       "      <td>-1</td>\n",
       "      <td>-1</td>\n",
       "      <td>0</td>\n",
       "      <td>0</td>\n",
       "      <td>0</td>\n",
       "      <td>Computer Science and Engineering</td>\n",
       "      <td>0</td>\n",
       "    </tr>\n",
       "  </tbody>\n",
       "</table>\n",
       "</div>"
      ],
      "text/plain": [
       "                      Name  python  python_en  mysql  computational_thinking  \\\n",
       "0            ASHOK KUMAR K     100          0     31                       9   \n",
       "1                  Chandru       0         20      0                       0   \n",
       "2        Ganesh Ramkumar R      -1         55     24                       6   \n",
       "3          Bodipudi Harini      -1          0     35                      -1   \n",
       "4                VIINU V P      -1        100     24                      -1   \n",
       "5               Poojitha Y       0         78     35                       0   \n",
       "6   Gowtham Chandrasekaran      -1          0      0                       3   \n",
       "7                Gowtham R      -1         60      4                       6   \n",
       "8                 shifak N      58          0      0                       0   \n",
       "9                  Balaji       -1        100     20                       0   \n",
       "10                Rushitha      -1         15     62                       9   \n",
       "11    Balaraman Muthupandi      -1          9      0                       0   \n",
       "12                JPradhap     100          0      0                       0   \n",
       "13           SRIRAMKUMAR B      -1          0      0                       0   \n",
       "14               Praneetha      -1         23    100                      -1   \n",
       "15             Rahul Raj K      -1          0      0                       0   \n",
       "16                 Guhan S      -1         72     35                      39   \n",
       "17            Suryarajan S      -1         63     31                       0   \n",
       "18          Narasimhan Y L      -1         -1      0                       0   \n",
       "19            Leelakrishna      -1          6      4                       0   \n",
       "20          PremsagarReddy      -1         20      0                       0   \n",
       "21               pradeeban      16         20     24                       0   \n",
       "22             santhoshini      -1         43      0                       0   \n",
       "23              MUKESH S M      -1         46      0                       0   \n",
       "24           P.GOVARDHANAN      -1         40      0                      -1   \n",
       "25            SHAIK DANISH      -1         43      0                       0   \n",
       "26               sridhar.s      -1         52      0                       0   \n",
       "27       Vimalesh Fernando      -1          0      0                       0   \n",
       "28           M.Karthikeyan      -1          0      4                       6   \n",
       "29               Abishak s      -1         55     35                       6   \n",
       "30           praveen raj j      24         -1      0                       0   \n",
       "31              AMARNATH D      -1         52     12                      -1   \n",
       "32                    bala      32         49      0                      -1   \n",
       "33                    XY Z      -1         20     -1                      -1   \n",
       "34               Hariharan      -1         -1     -1                       0   \n",
       "\n",
       "    Previous Geekions  CodeKata Score  \\\n",
       "0               19400           19400   \n",
       "1               14150           14490   \n",
       "2                8790           10790   \n",
       "3               10040           10040   \n",
       "4                9150            9150   \n",
       "5                7210            8970   \n",
       "6                7250            8950   \n",
       "7                8650            8650   \n",
       "8                5180            8320   \n",
       "9                6170            8160   \n",
       "10               7470            8090   \n",
       "11               7670            8050   \n",
       "12               7340            8030   \n",
       "13               6400            7940   \n",
       "14               7170            7730   \n",
       "15               6280            7640   \n",
       "16               7310            7630   \n",
       "17               6710            7550   \n",
       "18               4800            6800   \n",
       "19               5300            6640   \n",
       "20               5290            6290   \n",
       "21               6060            6090   \n",
       "22               3910            5740   \n",
       "23               5200            5200   \n",
       "24               5050            5050   \n",
       "25               4050            4820   \n",
       "26               3860            4440   \n",
       "27               4170            4170   \n",
       "28               4020            4020   \n",
       "29               3220            3220   \n",
       "30               2380            2380   \n",
       "31               1890            1890   \n",
       "32               1720            1720   \n",
       "33                  0               0   \n",
       "34                  0               0   \n",
       "\n",
       "                                   Department  Rising  \n",
       "0      Electronics and Electrical Engineering       0  \n",
       "1            Computer Science and Engineering     340  \n",
       "2            Computer Science and Engineering    2000  \n",
       "3   Electronics and Communication Engineering       0  \n",
       "4      Electronics and Electrical Engineering       0  \n",
       "5            Computer Science and Engineering    1760  \n",
       "6            Computer Science and Engineering    1700  \n",
       "7   Electronics and Communication Engineering       0  \n",
       "8      Electronics and Electrical Engineering    3140  \n",
       "9      Electronics and Electrical Engineering    1990  \n",
       "10           Computer Science and Engineering     620  \n",
       "11           Computer Science and Engineering     380  \n",
       "12     Electronics and Electrical Engineering     690  \n",
       "13           Computer Science and Engineering    1540  \n",
       "14  Electronics and Communication Engineering     560  \n",
       "15           Computer Science and Engineering    1360  \n",
       "16  Electronics and Communication Engineering     320  \n",
       "17           Computer Science and Engineering     840  \n",
       "18           Computer Science and Engineering    2000  \n",
       "19           Computer Science and Engineering    1340  \n",
       "20           Computer Science and Engineering    1000  \n",
       "21           Computer Science and Engineering      30  \n",
       "22           Computer Science and Engineering    1830  \n",
       "23           Computer Science and Engineering       0  \n",
       "24  Electronics and Communication Engineering       0  \n",
       "25           Computer Science and Engineering     770  \n",
       "26           Computer Science and Engineering     580  \n",
       "27           Computer Science and Engineering       0  \n",
       "28           Computer Science and Engineering       0  \n",
       "29  Electronics and Communication Engineering       0  \n",
       "30           Computer Science and Engineering       0  \n",
       "31  Electronics and Communication Engineering       0  \n",
       "32  Electronics and Communication Engineering       0  \n",
       "33           Computer Science and Engineering       0  \n",
       "34           Computer Science and Engineering       0  "
      ]
     },
     "execution_count": 4,
     "metadata": {},
     "output_type": "execute_result"
    }
   ],
   "source": [
    "df2"
   ]
  },
  {
   "cell_type": "code",
   "execution_count": 6,
   "metadata": {},
   "outputs": [
    {
     "name": "stdout",
     "output_type": "stream",
     "text": [
      "             Name  python  mysql  Previous Geekions  CodeKata Score  \\\n",
      "0       A.Dharani    82.0   20.0              24500           24500   \n",
      "1     V.JEEVITHA     82.0   20.0              21740           21740   \n",
      "2     HEMAVATHI.R   100.0  100.0              19680           19680   \n",
      "3     Mugunthan S   100.0   47.0              10610           10610   \n",
      "4     Sathammai.S   100.0    8.0               8980            8980   \n",
      "..            ...     ...    ...                ...             ...   \n",
      "30  praveen raj j    24.0    0.0               2380            2380   \n",
      "31     AMARNATH D    -1.0   12.0               1890            1890   \n",
      "32           bala    32.0    0.0               1720            1720   \n",
      "33           XY Z    -1.0   -1.0                  0               0   \n",
      "34      Hariharan    -1.0   -1.0                  0               0   \n",
      "\n",
      "                                   Department  Rising  python_en  \\\n",
      "0            Computer Science and Engineering       0        NaN   \n",
      "1            Computer Science and Engineering       0        NaN   \n",
      "2            Computer Science and Engineering       0        NaN   \n",
      "3            Computer Science and Engineering       0        NaN   \n",
      "4            Computer Science and Engineering       0        NaN   \n",
      "..                                        ...     ...        ...   \n",
      "30           Computer Science and Engineering       0       -1.0   \n",
      "31  Electronics and Communication Engineering       0       52.0   \n",
      "32  Electronics and Communication Engineering       0       49.0   \n",
      "33           Computer Science and Engineering       0       20.0   \n",
      "34           Computer Science and Engineering       0       -1.0   \n",
      "\n",
      "    computational_thinking  \n",
      "0                      NaN  \n",
      "1                      NaN  \n",
      "2                      NaN  \n",
      "3                      NaN  \n",
      "4                      NaN  \n",
      "..                     ...  \n",
      "30                     0.0  \n",
      "31                    -1.0  \n",
      "32                    -1.0  \n",
      "33                    -1.0  \n",
      "34                     0.0  \n",
      "\n",
      "[119 rows x 9 columns]\n"
     ]
    }
   ],
   "source": [
    "csv_file_list = [\"college_1.csv\", \"college_2.csv\"]\n",
    "\n",
    "list_of_dataframes = []\n",
    "for filename in csv_file_list:\n",
    "    list_of_dataframes.append(pd.read_csv(filename))\n",
    "\n",
    "merged_df = pd.concat(list_of_dataframes)\n",
    "\n",
    "print(merged_df)\n",
    "merged_df.to_csv('file1.csv')"
   ]
  },
  {
   "cell_type": "markdown",
   "metadata": {},
   "source": [
    "###### Take each csv file , split that csv file into multiple categories (example csv files are added in the repo) \n"
   ]
  },
  {
   "cell_type": "markdown",
   "metadata": {},
   "source": [
    "###### consider if the codekata score exceeds 15000 points(present week) then make a csv on those observations as Exceeded expectations.csv\n"
   ]
  },
  {
   "cell_type": "markdown",
   "metadata": {},
   "source": [
    "###### if  10000<codekata score<15000   (Reached_expectations.csv)\n",
    "\n"
   ]
  },
  {
   "cell_type": "markdown",
   "metadata": {},
   "source": [
    "###### if  7000<codekata score<10000   (Needs_Improvement.csv)\n"
   ]
  },
  {
   "cell_type": "markdown",
   "metadata": {},
   "source": [
    "###### if  codekate score < 7000        (Unsatisfactory.csv)"
   ]
  },
  {
   "cell_type": "code",
   "execution_count": 8,
   "metadata": {},
   "outputs": [],
   "source": [
    "#Creating a csv file where codekata score exceeds 15000 points and saved as Exceeded expectations.csv\n",
    "Exceeded = pd.read_csv(r\"file1.csv\")\n",
    "#pd.set_option('display.max_rows', Exceeded.shape[0]+1)\n",
    "Exceeded_expectations = Exceeded[Exceeded['CodeKata Score']>15000]\n",
    "Exceeded_expectations.to_csv('Exceeded expectations.csv')"
   ]
  },
  {
   "cell_type": "code",
   "execution_count": 10,
   "metadata": {},
   "outputs": [],
   "source": [
    "#Creating a csv file if 10000\n",
    "Reached = pd.read_csv(r\"file1.csv\")\n",
    "#pd.set_option('display.max_rows', Reached.shape[0]+1)\n",
    "Reached_expectations = Reached[(Reached['CodeKata Score']>10000)& (Reached['CodeKata Score']<15000)]\n",
    "Reached_expectations.to_csv(\"Reached_expectations.csv\")"
   ]
  },
  {
   "cell_type": "code",
   "execution_count": 11,
   "metadata": {},
   "outputs": [],
   "source": [
    "#Creating a csv file if 7000\n",
    "Needs = pd.read_csv(r\"file1.csv\")\n",
    "#pd.set_option('display.max_rows', Needs.shape[0]+1)\n",
    "Needs_Improvement = Needs[(Needs['CodeKata Score']>7000)& (Needs['CodeKata Score']<10000)]\n",
    "pd.set_option('display.max_rows', Needs.shape[0]+1)\n",
    "Needs_Improvement.to_csv(\"Needs_Improvement.csv\")"
   ]
  },
  {
   "cell_type": "code",
   "execution_count": 12,
   "metadata": {},
   "outputs": [],
   "source": [
    "Unsatis = pd.read_csv(r\"file1.csv\")\n",
    "Unsatisfactory = Unsatis[Unsatis['CodeKata Score']<7000]\n",
    "Unsatisfactory.to_csv(\"Unsatisfactory.csv\")"
   ]
  },
  {
   "cell_type": "markdown",
   "metadata": {},
   "source": [
    "###### Average of previous week geekions vs this week geekions (i.e Previous Geekions vs CodeKata Score)"
   ]
  },
  {
   "cell_type": "code",
   "execution_count": 13,
   "metadata": {},
   "outputs": [
    {
     "name": "stdout",
     "output_type": "stream",
     "text": [
      "3842.3529411764707\n",
      "4051.764705882353\n"
     ]
    }
   ],
   "source": [
    "#Average of previous Week Geekoins\n",
    "df = pd.read_csv(r\"file1.csv\")\n",
    "pd.set_option('display.max_rows',df.shape[0]+1)\n",
    "print(df['Previous Geekions'].mean())\n",
    "\n",
    "#Average of Codekata score\n",
    "df = pd.read_csv(r\"file1.csv\")\n",
    "print(df['CodeKata Score'].mean())"
   ]
  },
  {
   "cell_type": "markdown",
   "metadata": {},
   "source": [
    "###### No of students participated "
   ]
  },
  {
   "cell_type": "code",
   "execution_count": 14,
   "metadata": {},
   "outputs": [
    {
     "name": "stdout",
     "output_type": "stream",
     "text": [
      "119\n"
     ]
    }
   ],
   "source": [
    "dataframe = pd.read_csv(r\"file1.csv\")\n",
    "print(dataframe['Name'].count())"
   ]
  },
  {
   "cell_type": "markdown",
   "metadata": {},
   "source": [
    "###### #Average completion of python course or my_sql or python english or computational thinking"
   ]
  },
  {
   "cell_type": "code",
   "execution_count": 36,
   "metadata": {},
   "outputs": [
    {
     "data": {
      "text/plain": [
       "(41, 9)"
      ]
     },
     "execution_count": 36,
     "metadata": {},
     "output_type": "execute_result"
    }
   ],
   "source": [
    "python_completion=merged_df[merged_df['python']==100]\n",
    "python_completion.shape"
   ]
  },
  {
   "cell_type": "code",
   "execution_count": 38,
   "metadata": {},
   "outputs": [
    {
     "name": "stdout",
     "output_type": "stream",
     "text": [
      "No of students completed the python course is: 41\n",
      "Overall students : 119\n",
      "Percentage of students completed the python assignment is : 34\n"
     ]
    }
   ],
   "source": [
    "print(\"No of students completed the python course is:\",python_completion.shape[0])\n",
    "print(\"Overall students :\",merged_df.shape[0])\n",
    "b=(python_completion.shape[0]/merged_df.shape[0])*100\n",
    "print(\"Percentage of students completed the python assignment is :\",round(b))"
   ]
  },
  {
   "cell_type": "code",
   "execution_count": 39,
   "metadata": {},
   "outputs": [
    {
     "data": {
      "text/plain": [
       "(14, 9)"
      ]
     },
     "execution_count": 39,
     "metadata": {},
     "output_type": "execute_result"
    }
   ],
   "source": [
    "mysql_completion=merged_df[merged_df['mysql']==100]\n",
    "mysql_completion.shape"
   ]
  },
  {
   "cell_type": "code",
   "execution_count": 40,
   "metadata": {},
   "outputs": [
    {
     "name": "stdout",
     "output_type": "stream",
     "text": [
      "No of students completed the my_sql course is: 14\n",
      "Overall students : 119\n",
      "Percentage of students completed the my_sql assignment is : 12\n"
     ]
    }
   ],
   "source": [
    "print(\"No of students completed the my_sql course is:\",mysql_completion.shape[0])\n",
    "print(\"Overall students :\",merged_df.shape[0])\n",
    "g=(mysql_completion.shape[0]/merged_df.shape[0])*100\n",
    "print(\"Percentage of students completed the my_sql assignment is :\",round(g))"
   ]
  },
  {
   "cell_type": "code",
   "execution_count": 41,
   "metadata": {},
   "outputs": [
    {
     "data": {
      "text/plain": [
       "(2, 9)"
      ]
     },
     "execution_count": 41,
     "metadata": {},
     "output_type": "execute_result"
    }
   ],
   "source": [
    "python_en_completion=merged_df[merged_df['python_en']==100]\n",
    "python_en_completion.shape"
   ]
  },
  {
   "cell_type": "code",
   "execution_count": 42,
   "metadata": {},
   "outputs": [
    {
     "name": "stdout",
     "output_type": "stream",
     "text": [
      "No of students completed the python_en course is: 2\n",
      "Overall students : 119\n",
      "Percentage of students completed the python_en assignment is : 2\n"
     ]
    }
   ],
   "source": [
    "print(\"No of students completed the python_en course is:\",python_en_completion.shape[0])\n",
    "print(\"Overall students :\",merged_df.shape[0])\n",
    "f=(python_en_completion.shape[0]/merged_df.shape[0])*100\n",
    "print(\"Percentage of students completed the python_en assignment is :\",round(f))"
   ]
  },
  {
   "cell_type": "code",
   "execution_count": 43,
   "metadata": {},
   "outputs": [
    {
     "data": {
      "text/plain": [
       "(0, 9)"
      ]
     },
     "execution_count": 43,
     "metadata": {},
     "output_type": "execute_result"
    }
   ],
   "source": [
    "computational_thinking_completion=merged_df[merged_df['computational_thinking']==100]\n",
    "computational_thinking_completion.shape"
   ]
  },
  {
   "cell_type": "code",
   "execution_count": 44,
   "metadata": {},
   "outputs": [
    {
     "name": "stdout",
     "output_type": "stream",
     "text": [
      "No of students completed the computational_thinking course is: 0\n",
      "Overall students : 119\n",
      "Percentage of students completed the computational_thinking assignment is : 0\n"
     ]
    }
   ],
   "source": [
    "print(\"No of students completed the computational_thinking course is:\",computational_thinking_completion.shape[0])\n",
    "print(\"Overall students :\",merged_df.shape[0])\n",
    "f=(computational_thinking_completion.shape[0]/merged_df.shape[0])*100\n",
    "print(\"Percentage of students completed the computational_thinking assignment is :\",round(f))"
   ]
  },
  {
   "cell_type": "code",
   "execution_count": 45,
   "metadata": {},
   "outputs": [
    {
     "data": {
      "text/plain": [
       "(46, 9)"
      ]
     },
     "execution_count": 45,
     "metadata": {},
     "output_type": "execute_result"
    }
   ],
   "source": [
    "Average=merged_df.loc[(merged_df['python']==100)|(merged_df['mysql']==100)|(merged_df['python_en']==100)|(merged_df['computational_thinking']==100)]\n",
    "Average.shape"
   ]
  },
  {
   "cell_type": "code",
   "execution_count": 46,
   "metadata": {},
   "outputs": [
    {
     "name": "stdout",
     "output_type": "stream",
     "text": [
      "Average completion of python course or my_sql or python english or computational thinking is : 38.655462184873954\n"
     ]
    }
   ],
   "source": [
    "m=(Average.shape[0]/merged_df.shape[0])*100\n",
    "print(\"Average completion of python course or my_sql or python english or computational thinking is :\",m)"
   ]
  },
  {
   "cell_type": "markdown",
   "metadata": {},
   "source": [
    "###### rising star of the week (top 3 candidate who performed well in that particular week)"
   ]
  },
  {
   "cell_type": "code",
   "execution_count": 47,
   "metadata": {},
   "outputs": [],
   "source": [
    "merged_df['performance'] = merged_df['CodeKata Score'] -merged_df['Previous Geekions']"
   ]
  },
  {
   "cell_type": "code",
   "execution_count": 48,
   "metadata": {},
   "outputs": [
    {
     "data": {
      "text/html": [
       "<div>\n",
       "<style scoped>\n",
       "    .dataframe tbody tr th:only-of-type {\n",
       "        vertical-align: middle;\n",
       "    }\n",
       "\n",
       "    .dataframe tbody tr th {\n",
       "        vertical-align: top;\n",
       "    }\n",
       "\n",
       "    .dataframe thead th {\n",
       "        text-align: right;\n",
       "    }\n",
       "</style>\n",
       "<table border=\"1\" class=\"dataframe\">\n",
       "  <thead>\n",
       "    <tr style=\"text-align: right;\">\n",
       "      <th></th>\n",
       "      <th>Name</th>\n",
       "      <th>python</th>\n",
       "      <th>mysql</th>\n",
       "      <th>Previous Geekions</th>\n",
       "      <th>CodeKata Score</th>\n",
       "      <th>Department</th>\n",
       "      <th>Rising</th>\n",
       "      <th>python_en</th>\n",
       "      <th>computational_thinking</th>\n",
       "      <th>performance</th>\n",
       "    </tr>\n",
       "  </thead>\n",
       "  <tbody>\n",
       "    <tr>\n",
       "      <th>8</th>\n",
       "      <td>shifak N</td>\n",
       "      <td>58.0</td>\n",
       "      <td>0.0</td>\n",
       "      <td>5180</td>\n",
       "      <td>8320</td>\n",
       "      <td>Electronics and Electrical Engineering</td>\n",
       "      <td>3140</td>\n",
       "      <td>0.0</td>\n",
       "      <td>0.0</td>\n",
       "      <td>3140</td>\n",
       "    </tr>\n",
       "    <tr>\n",
       "      <th>2</th>\n",
       "      <td>Ganesh Ramkumar R</td>\n",
       "      <td>-1.0</td>\n",
       "      <td>24.0</td>\n",
       "      <td>8790</td>\n",
       "      <td>10790</td>\n",
       "      <td>Computer Science and Engineering</td>\n",
       "      <td>2000</td>\n",
       "      <td>55.0</td>\n",
       "      <td>6.0</td>\n",
       "      <td>2000</td>\n",
       "    </tr>\n",
       "    <tr>\n",
       "      <th>18</th>\n",
       "      <td>Narasimhan Y L</td>\n",
       "      <td>-1.0</td>\n",
       "      <td>0.0</td>\n",
       "      <td>4800</td>\n",
       "      <td>6800</td>\n",
       "      <td>Computer Science and Engineering</td>\n",
       "      <td>2000</td>\n",
       "      <td>-1.0</td>\n",
       "      <td>0.0</td>\n",
       "      <td>2000</td>\n",
       "    </tr>\n",
       "  </tbody>\n",
       "</table>\n",
       "</div>"
      ],
      "text/plain": [
       "                 Name  python  mysql  Previous Geekions  CodeKata Score  \\\n",
       "8            shifak N    58.0    0.0               5180            8320   \n",
       "2   Ganesh Ramkumar R    -1.0   24.0               8790           10790   \n",
       "18     Narasimhan Y L    -1.0    0.0               4800            6800   \n",
       "\n",
       "                                Department  Rising  python_en  \\\n",
       "8   Electronics and Electrical Engineering    3140        0.0   \n",
       "2         Computer Science and Engineering    2000       55.0   \n",
       "18        Computer Science and Engineering    2000       -1.0   \n",
       "\n",
       "    computational_thinking  performance  \n",
       "8                      0.0         3140  \n",
       "2                      6.0         2000  \n",
       "18                     0.0         2000  "
      ]
     },
     "execution_count": 48,
     "metadata": {},
     "output_type": "execute_result"
    }
   ],
   "source": [
    "weektop_performer=merged_df.nlargest(3, ['performance'])\n",
    "weektop_performer"
   ]
  },
  {
   "cell_type": "code",
   "execution_count": 49,
   "metadata": {},
   "outputs": [
    {
     "name": "stdout",
     "output_type": "stream",
     "text": [
      "rising star of the week (top 3 candidate who performed well in that particular week) are\n",
      "shifak N\n",
      "Ganesh Ramkumar R\n",
      "Narasimhan Y L\n"
     ]
    }
   ],
   "source": [
    "print('rising star of the week (top 3 candidate who performed well in that particular week) are')\n",
    "for i in weektop_performer['Name']:\n",
    "  print(i)"
   ]
  },
  {
   "cell_type": "markdown",
   "metadata": {},
   "source": [
    "###### Shining stars of the week (top 3 candidates who has highest geekions)"
   ]
  },
  {
   "cell_type": "code",
   "execution_count": 18,
   "metadata": {},
   "outputs": [
    {
     "data": {
      "text/html": [
       "<div>\n",
       "<style scoped>\n",
       "    .dataframe tbody tr th:only-of-type {\n",
       "        vertical-align: middle;\n",
       "    }\n",
       "\n",
       "    .dataframe tbody tr th {\n",
       "        vertical-align: top;\n",
       "    }\n",
       "\n",
       "    .dataframe thead th {\n",
       "        text-align: right;\n",
       "    }\n",
       "</style>\n",
       "<table border=\"1\" class=\"dataframe\">\n",
       "  <thead>\n",
       "    <tr style=\"text-align: right;\">\n",
       "      <th></th>\n",
       "      <th>Unnamed: 0</th>\n",
       "      <th>Name</th>\n",
       "      <th>python</th>\n",
       "      <th>mysql</th>\n",
       "      <th>Previous Geekions</th>\n",
       "      <th>CodeKata Score</th>\n",
       "      <th>Department</th>\n",
       "      <th>Rising</th>\n",
       "      <th>python_en</th>\n",
       "      <th>computational_thinking</th>\n",
       "    </tr>\n",
       "  </thead>\n",
       "  <tbody>\n",
       "    <tr>\n",
       "      <th>0</th>\n",
       "      <td>0</td>\n",
       "      <td>A.Dharani</td>\n",
       "      <td>82.0</td>\n",
       "      <td>20.0</td>\n",
       "      <td>24500</td>\n",
       "      <td>24500</td>\n",
       "      <td>Computer Science and Engineering</td>\n",
       "      <td>0</td>\n",
       "      <td>NaN</td>\n",
       "      <td>NaN</td>\n",
       "    </tr>\n",
       "    <tr>\n",
       "      <th>1</th>\n",
       "      <td>1</td>\n",
       "      <td>V.JEEVITHA</td>\n",
       "      <td>82.0</td>\n",
       "      <td>20.0</td>\n",
       "      <td>21740</td>\n",
       "      <td>21740</td>\n",
       "      <td>Computer Science and Engineering</td>\n",
       "      <td>0</td>\n",
       "      <td>NaN</td>\n",
       "      <td>NaN</td>\n",
       "    </tr>\n",
       "    <tr>\n",
       "      <th>2</th>\n",
       "      <td>2</td>\n",
       "      <td>HEMAVATHI.R</td>\n",
       "      <td>100.0</td>\n",
       "      <td>100.0</td>\n",
       "      <td>19680</td>\n",
       "      <td>19680</td>\n",
       "      <td>Computer Science and Engineering</td>\n",
       "      <td>0</td>\n",
       "      <td>NaN</td>\n",
       "      <td>NaN</td>\n",
       "    </tr>\n",
       "  </tbody>\n",
       "</table>\n",
       "</div>"
      ],
      "text/plain": [
       "   Unnamed: 0         Name  python  mysql  Previous Geekions  CodeKata Score  \\\n",
       "0           0    A.Dharani    82.0   20.0              24500           24500   \n",
       "1           1  V.JEEVITHA     82.0   20.0              21740           21740   \n",
       "2           2  HEMAVATHI.R   100.0  100.0              19680           19680   \n",
       "\n",
       "                         Department  Rising  python_en  computational_thinking  \n",
       "0  Computer Science and Engineering       0        NaN                     NaN  \n",
       "1  Computer Science and Engineering       0        NaN                     NaN  \n",
       "2  Computer Science and Engineering       0        NaN                     NaN  "
      ]
     },
     "execution_count": 18,
     "metadata": {},
     "output_type": "execute_result"
    }
   ],
   "source": [
    "Highest = pd.read_csv('file1.csv')\n",
    "Highest.nlargest(3, ['CodeKata Score'])"
   ]
  },
  {
   "cell_type": "markdown",
   "metadata": {},
   "source": [
    "###### Department wise codekata performence (pie chart)"
   ]
  },
  {
   "cell_type": "code",
   "execution_count": 19,
   "metadata": {},
   "outputs": [
    {
     "name": "stdout",
     "output_type": "stream",
     "text": [
      "Computer Science and Engineering             63\n",
      "Electronics and Communication Engineering    39\n",
      "Electronics and Electrical Engineering       17\n",
      "Name: Department, dtype: int64\n"
     ]
    }
   ],
   "source": [
    "#Calculating the different department total counts\n",
    "df = pd.read_csv ('file1.csv')\n",
    "#pd.set_option('display.max_rows',df.shape[0]+1)\n",
    "item_counts = df[\"Department\"].value_counts()\n",
    "print(item_counts)"
   ]
  },
  {
   "cell_type": "code",
   "execution_count": 21,
   "metadata": {},
   "outputs": [
    {
     "data": {
      "image/png": "[encoded data removed]",
      "text/plain": [
       "<Figure size 432x288 with 1 Axes>"
      ]
     },
     "metadata": {},
     "output_type": "display_data"
    }
   ],
   "source": [
    "import matplotlib.pyplot as plt\n",
    "import seaborn as sns\n",
    "import pandas as pd\n",
    "from matplotlib.pyplot import pie, axis, show\n",
    "%matplotlib inline\n",
    "\n",
    "df = pd.read_csv ('file1.csv')\n",
    "\n",
    "data = df.groupby(df[\"Department\"])[\"CodeKata Score\"].sum()\n",
    "axis('equal');\n",
    "plt.title('Department wise codekata performance ')\n",
    "pie(data, labels=data.index,autopct=\"%.1f%%\",explode = (0.1, 0.1, 0.1));\n",
    "show()"
   ]
  },
  {
   "cell_type": "markdown",
   "metadata": {},
   "source": [
    "###### Department wise toppers (horizantal bar graph or any visual representations of your choice)"
   ]
  },
  {
   "cell_type": "code",
   "execution_count": 22,
   "metadata": {},
   "outputs": [],
   "source": [
    "# This piece of code is used to group all Computer Science and Engineering department data and saved it as a CSV file\n",
    "df = pd.read_csv (r'file1.csv')\n",
    "pd.set_option('display.max_rows',df.shape[0]+1)\n",
    "data = df[(df['Department'] == 'Computer Science and Engineering')]\n",
    "pd.set_option('display.max_rows',df.shape[0]+1)\n",
    "data.to_csv(\"Computer Science and Engineering.csv\")"
   ]
  },
  {
   "cell_type": "code",
   "execution_count": 24,
   "metadata": {},
   "outputs": [
    {
     "name": "stdout",
     "output_type": "stream",
     "text": [
      "24500\n"
     ]
    }
   ],
   "source": [
    "#This code is used to get the maxmimum value in Codekata Score so that we will get the topper in Computer Science and Engineering department\n",
    "df = pd.read_csv (r'Computer Science and Engineering.csv')\n",
    "column = df[\"CodeKata Score\"]\n",
    "max_value = column.max()\n",
    "print(max_value)"
   ]
  },
  {
   "cell_type": "code",
   "execution_count": 25,
   "metadata": {},
   "outputs": [],
   "source": [
    "df = pd.read_csv (r'file1.csv')\n",
    "pd.set_option('display.max_rows',df.shape[0]+1)\n",
    "data = df[(df['Department'] == 'Electronics and Communication Engineering')]\n",
    "pd.set_option('display.max_rows',df.shape[0]+1)\n",
    "data.to_csv(\"Electronics and Communication Engineering.csv\")"
   ]
  },
  {
   "cell_type": "code",
   "execution_count": 26,
   "metadata": {},
   "outputs": [
    {
     "name": "stdout",
     "output_type": "stream",
     "text": [
      "10040\n"
     ]
    }
   ],
   "source": [
    "df = pd.read_csv (r'Electronics and Communication Engineering.csv')\n",
    "column = df[\"CodeKata Score\"]\n",
    "max_value = column.max()\n",
    "print(max_value)"
   ]
  },
  {
   "cell_type": "code",
   "execution_count": 27,
   "metadata": {},
   "outputs": [],
   "source": [
    "df = pd.read_csv (r'file1.csv')\n",
    "data = df[(df['Department'] == 'Electronics and Electrical Engineering')]\n",
    "pd.set_option('display.max_rows',df.shape[0]+1)\n",
    "data.to_csv(\"Electronics and Electrical Engineering.csv\")"
   ]
  },
  {
   "cell_type": "code",
   "execution_count": 32,
   "metadata": {},
   "outputs": [
    {
     "data": {
      "text/html": [
       "<div>\n",
       "<style scoped>\n",
       "    .dataframe tbody tr th:only-of-type {\n",
       "        vertical-align: middle;\n",
       "    }\n",
       "\n",
       "    .dataframe tbody tr th {\n",
       "        vertical-align: top;\n",
       "    }\n",
       "\n",
       "    .dataframe thead th {\n",
       "        text-align: right;\n",
       "    }\n",
       "</style>\n",
       "<table border=\"1\" class=\"dataframe\">\n",
       "  <thead>\n",
       "    <tr style=\"text-align: right;\">\n",
       "      <th></th>\n",
       "      <th>Name</th>\n",
       "      <th>CodeKata Score</th>\n",
       "      <th>Department</th>\n",
       "    </tr>\n",
       "  </thead>\n",
       "  <tbody>\n",
       "    <tr>\n",
       "      <th>12</th>\n",
       "      <td>ASHOK KUMAR K</td>\n",
       "      <td>19400</td>\n",
       "      <td>Electronics and Electrical Engineering</td>\n",
       "    </tr>\n",
       "  </tbody>\n",
       "</table>\n",
       "</div>"
      ],
      "text/plain": [
       "             Name  CodeKata Score                              Department\n",
       "12  ASHOK KUMAR K           19400  Electronics and Electrical Engineering"
      ]
     },
     "execution_count": 32,
     "metadata": {},
     "output_type": "execute_result"
    }
   ],
   "source": [
    "#Splitting the rows so that we can merge and create another csv which consist of all three topers info from different departmentc\n",
    "df = pd.read_csv (r'Electronics and Electrical Engineering.csv')\n",
    "pd.set_option('display.max_rows',df.shape[0]+1)\n",
    "max_index = df[\"CodeKata Score\"].idxmax()\n",
    "a = df.iloc[[max_index]]\n",
    "temp1 = a[['Name','CodeKata Score','Department']]\n",
    "temp1"
   ]
  },
  {
   "cell_type": "code",
   "execution_count": 29,
   "metadata": {},
   "outputs": [
    {
     "data": {
      "text/html": [
       "<div>\n",
       "<style scoped>\n",
       "    .dataframe tbody tr th:only-of-type {\n",
       "        vertical-align: middle;\n",
       "    }\n",
       "\n",
       "    .dataframe tbody tr th {\n",
       "        vertical-align: top;\n",
       "    }\n",
       "\n",
       "    .dataframe thead th {\n",
       "        text-align: right;\n",
       "    }\n",
       "</style>\n",
       "<table border=\"1\" class=\"dataframe\">\n",
       "  <thead>\n",
       "    <tr style=\"text-align: right;\">\n",
       "      <th></th>\n",
       "      <th>Name</th>\n",
       "      <th>CodeKata Score</th>\n",
       "      <th>Department</th>\n",
       "    </tr>\n",
       "  </thead>\n",
       "  <tbody>\n",
       "    <tr>\n",
       "      <th>31</th>\n",
       "      <td>Bodipudi Harini</td>\n",
       "      <td>10040</td>\n",
       "      <td>Electronics and Communication Engineering</td>\n",
       "    </tr>\n",
       "  </tbody>\n",
       "</table>\n",
       "</div>"
      ],
      "text/plain": [
       "               Name  CodeKata Score                                 Department\n",
       "31  Bodipudi Harini           10040  Electronics and Communication Engineering"
      ]
     },
     "execution_count": 29,
     "metadata": {},
     "output_type": "execute_result"
    }
   ],
   "source": [
    "df = pd.read_csv (r'Electronics and Communication Engineering.csv')\n",
    "pd.set_option('display.max_rows',df.shape[0]+1)\n",
    "max_index = df[\"CodeKata Score\"].idxmax()\n",
    "b = df.iloc[[max_index]]\n",
    "temp2 = b[['Name','CodeKata Score','Department']]\n",
    "temp2"
   ]
  },
  {
   "cell_type": "code",
   "execution_count": 31,
   "metadata": {},
   "outputs": [
    {
     "data": {
      "text/html": [
       "<div>\n",
       "<style scoped>\n",
       "    .dataframe tbody tr th:only-of-type {\n",
       "        vertical-align: middle;\n",
       "    }\n",
       "\n",
       "    .dataframe tbody tr th {\n",
       "        vertical-align: top;\n",
       "    }\n",
       "\n",
       "    .dataframe thead th {\n",
       "        text-align: right;\n",
       "    }\n",
       "</style>\n",
       "<table border=\"1\" class=\"dataframe\">\n",
       "  <thead>\n",
       "    <tr style=\"text-align: right;\">\n",
       "      <th></th>\n",
       "      <th>Name</th>\n",
       "      <th>CodeKata Score</th>\n",
       "      <th>Department</th>\n",
       "    </tr>\n",
       "  </thead>\n",
       "  <tbody>\n",
       "    <tr>\n",
       "      <th>0</th>\n",
       "      <td>A.Dharani</td>\n",
       "      <td>24500</td>\n",
       "      <td>Computer Science and Engineering</td>\n",
       "    </tr>\n",
       "  </tbody>\n",
       "</table>\n",
       "</div>"
      ],
      "text/plain": [
       "        Name  CodeKata Score                        Department\n",
       "0  A.Dharani           24500  Computer Science and Engineering"
      ]
     },
     "execution_count": 31,
     "metadata": {},
     "output_type": "execute_result"
    }
   ],
   "source": [
    "df = pd.read_csv (r'Computer Science and Engineering.csv')\n",
    "pd.set_option('display.max_rows',df.shape[0]+1)\n",
    "max_index = df[\"CodeKata Score\"].idxmax()\n",
    "c = df.iloc[[max_index]]\n",
    "temp3 = c[['Name','CodeKata Score','Department']]\n",
    "temp3"
   ]
  },
  {
   "cell_type": "code",
   "execution_count": 33,
   "metadata": {},
   "outputs": [],
   "source": [
    "#Merging the three dataframes and creating a csv file.\n",
    "\n",
    "frames = [temp1, temp2, temp3]\n",
    "\n",
    "result = pd.concat(frames)\n",
    "result.set_index([pd.Index([0,1,2]),'Name'])\n",
    "result.to_csv(\"Topers.csv\")"
   ]
  },
  {
   "cell_type": "code",
   "execution_count": 35,
   "metadata": {},
   "outputs": [
    {
     "data": {
      "text/plain": [
       "<AxesSubplot:title={'center':'Department wise topers'}, ylabel='Department'>"
      ]
     },
     "execution_count": 35,
     "metadata": {},
     "output_type": "execute_result"
    },
    {
     "data": {
      "image/png": "[encoded data removed]",
      "text/plain": [
       "<Figure size 432x288 with 1 Axes>"
      ]
     },
     "metadata": {
      "needs_background": "light"
     },
     "output_type": "display_data"
    }
   ],
   "source": [
    "import matplotlib.pyplot as plt\n",
    "import seaborn as sns\n",
    "import pandas as pd\n",
    "from matplotlib.pyplot import pie, axis, show\n",
    "%matplotlib inline\n",
    "\n",
    "df = pd.read_csv('Topers.csv')\n",
    "\n",
    "df.plot.barh(x ='Department', y='CodeKata Score',\n",
    "             title='Department wise topers', color='blue')"
   ]
  }
 ],
 "metadata": {
  "kernelspec": {
   "display_name": "Python 3 (ipykernel)",
   "language": "python",
   "name": "python3"
  },
  "language_info": {
   "codemirror_mode": {
    "name": "ipython",
    "version": 3
   },
   "file_extension": ".py",
   "mimetype": "text/x-python",
   "name": "python",
   "nbconvert_exporter": "python",
   "pygments_lexer": "ipython3",
   "version": "3.9.12"
  }
 },
 "nbformat": 4,
 "nbformat_minor": 2
}
